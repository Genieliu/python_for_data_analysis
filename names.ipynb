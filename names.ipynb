{
 "cells": [
  {
   "cell_type": "code",
   "execution_count": 47,
   "metadata": {},
   "outputs": [],
   "source": [
    "import pandas as pd\n",
    "import numpy as np\n",
    "\n",
    "names1880 = pd.read_csv('names/yob1880.txt', names=['name', 'sex', 'births'])\n",
    "\n",
    "years = range(1880,2011)\n",
    "pieces = []\n",
    "columns = ['name', 'sex', 'births']\n",
    "\n",
    "for year in years:\n",
    "    path = 'names/yob%d.txt' % year\n",
    "    frame = pd.read_csv(path, names=columns)\n",
    "    \n",
    "    frame['year'] = year\n",
    "    pieces.append(frame)\n",
    "\n",
    "names = pd.concat(pieces, ignore_index=True)"
   ]
  },
  {
   "cell_type": "code",
   "execution_count": 51,
   "metadata": {},
   "outputs": [
    {
     "name": "stdout",
     "output_type": "stream",
     "text": [
      "sex         F        M\n",
      "year                  \n",
      "1880    90993   110493\n",
      "1881    91955   100748\n",
      "1882   107851   113687\n",
      "1883   112322   104632\n",
      "1884   129021   114445\n",
      "1885   133056   107802\n",
      "1886   144538   110785\n",
      "1887   145983   101412\n",
      "1888   178631   120857\n",
      "1889   178369   110590\n",
      "1890   190377   111026\n",
      "1891   185486   101198\n",
      "1892   212350   122038\n",
      "1893   212908   112319\n",
      "1894   222923   115775\n",
      "1895   233632   117398\n",
      "1896   237924   119575\n",
      "1897   234199   112760\n",
      "1898   258771   122703\n",
      "1899   233022   106218\n",
      "1900   299873   150554\n",
      "1901   239351   106478\n",
      "1902   264079   122660\n",
      "1903   261976   119240\n",
      "1904   275375   128129\n",
      "1905   291641   132319\n",
      "1906   295301   133159\n",
      "1907   318558   146838\n",
      "1908   334277   154339\n",
      "1909   347191   163983\n",
      "...       ...      ...\n",
      "1981  1666833  1789568\n",
      "1982  1692036  1812642\n",
      "1983  1669486  1790670\n",
      "1984  1682396  1802735\n",
      "1985  1719450  1846162\n",
      "1986  1714053  1839442\n",
      "1987  1737508  1865113\n",
      "1988  1779112  1911858\n",
      "1989  1843057  1999840\n",
      "1990  1897256  2052070\n",
      "1991  1874110  2019018\n",
      "1992  1842818  1995760\n",
      "1993  1807795  1959712\n",
      "1994  1784407  1930363\n",
      "1995  1757240  1902100\n",
      "1996  1751681  1892700\n",
      "1997  1739331  1883571\n",
      "1998  1765390  1909676\n",
      "1999  1772139  1918267\n",
      "2000  1813960  1961702\n",
      "2001  1798284  1940498\n",
      "2002  1794358  1938941\n",
      "2003  1824406  1972439\n",
      "2004  1833005  1981557\n",
      "2005  1843890  1993285\n",
      "2006  1896468  2050234\n",
      "2007  1916888  2069242\n",
      "2008  1883645  2032310\n",
      "2009  1827643  1973359\n",
      "2010  1759010  1898382\n",
      "\n",
      "[131 rows x 2 columns]\n"
     ]
    }
   ],
   "source": [
    "total_births = names.pivot_table('births', index='year', columns='sex', aggfunc=sum)\n",
    "def add_prop(group):\n",
    "    births = group.births.astype(float)\n",
    "    \n",
    "    group['prop'] = births/births.sum()\n",
    "    return group"
   ]
  },
  {
   "cell_type": "code",
   "execution_count": 44,
   "metadata": {},
   "outputs": [],
   "source": [
    "names = names.groupby(['year', 'sex']).apply(add_prop)\n",
    "np.allclose(names.groupby(['year', 'sex']).prop.sum(),1)\n",
    "\n",
    "def get_top1000(group):\n",
    "    return group.sort_values(by='births', ascending=False)[:1000]\n",
    "\n",
    "grouped = names.groupby(['year', 'sex'])\n",
    "top1000 = grouped.apply(get_top1000)"
   ]
  },
  {
   "cell_type": "code",
   "execution_count": null,
   "metadata": {
    "collapsed": true
   },
   "outputs": [],
   "source": []
  }
 ],
 "metadata": {
  "kernelspec": {
   "display_name": "Python 3",
   "language": "python",
   "name": "python3"
  },
  "language_info": {
   "codemirror_mode": {
    "name": "ipython",
    "version": 3
   },
   "file_extension": ".py",
   "mimetype": "text/x-python",
   "name": "python",
   "nbconvert_exporter": "python",
   "pygments_lexer": "ipython3",
   "version": "3.6.1"
  }
 },
 "nbformat": 4,
 "nbformat_minor": 2
}
