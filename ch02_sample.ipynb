{
 "cells": [
  {
   "cell_type": "code",
   "execution_count": 68,
   "metadata": {},
   "outputs": [
    {
     "name": "stdout",
     "output_type": "stream",
     "text": [
      "Using matplotlib backend: Qt5Agg\n",
      "Populating the interactive namespace from numpy and matplotlib\n"
     ]
    },
    {
     "data": {
      "text/plain": [
       "<matplotlib.axes._subplots.AxesSubplot at 0xbea8400>"
      ]
     },
     "execution_count": 68,
     "metadata": {},
     "output_type": "execute_result"
    }
   ],
   "source": [
    "%pylab\n",
    "import numpy as np\n",
    "import pandas as pd\n",
    "import matplotlib.pyplot as plt\n",
    "\n",
    "from pandas import DataFrame, Series\n",
    "import json\n",
    "\n",
    "path = \"ch02/usagov_bitly_data2012-03-16-1331923249.txt\"\n",
    "records = [json.loads(line) for line in open(path)]\n",
    "\n",
    "frame = DataFrame(records)\n",
    "clean_tz = frame['tz'].fillna('Missing')\n",
    "clean_tz[clean_tz == ''] = \"Unknown\"\n",
    "tz_counts = clean_tz.value_counts()\n",
    "\n",
    "#tz_counts[:10].plot(kind='barh', rot=0)\n",
    "results = Series([x.split()[0] for x in frame.a.dropna()])\n",
    "cframe = frame[frame.a.notnull()]\n",
    "operating_sys = np.where(cframe['a'].str.contains('Windows'), 'Windows', 'Not Windows')\n",
    "\n",
    "by_tz_os = cframe.groupby(['tz', operating_sys])\n",
    "agg_counts = by_tz_os.size().unstack().fillna(0)\n",
    "indexer = agg_counts.sum(1).argsort()\n",
    "count_subset = agg_counts.take(indexer)[-10:]\n",
    "normed_subset = count_subset.div(count_subset.sum(1), axis=0)\n",
    "normed_subset.plot(kind='barh', stacked=True)\n"
   ]
  },
  {
   "cell_type": "code",
   "execution_count": null,
   "metadata": {
    "collapsed": true
   },
   "outputs": [],
   "source": []
  }
 ],
 "metadata": {
  "kernelspec": {
   "display_name": "Python 3",
   "language": "python",
   "name": "python3"
  },
  "language_info": {
   "codemirror_mode": {
    "name": "ipython",
    "version": 3
   },
   "file_extension": ".py",
   "mimetype": "text/x-python",
   "name": "python",
   "nbconvert_exporter": "python",
   "pygments_lexer": "ipython3",
   "version": "3.6.1"
  }
 },
 "nbformat": 4,
 "nbformat_minor": 2
}
